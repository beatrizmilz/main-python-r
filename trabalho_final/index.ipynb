{
  "cells": [
    {
      "cell_type": "raw",
      "metadata": {},
      "source": [
        "---\n",
        "title: Abastecimento público da Região Metropolitana de São Paulo\n",
        "subtitle: 'Trabalho final para o curso Python para usuários de R, da Curso-R'\n",
        "author: Beatriz Milz\n",
        "date: '2023-01-01'\n",
        "categories:\n",
        "  - Análise exploratória\n",
        "  - Estudos\n",
        "  - Quarto\n",
        "  - Python\n",
        "  - Pandas\n",
        "  - Seaborn\n",
        "toc: true\n",
        "draft: false\n",
        "lang: pt\n",
        "---"
      ],
      "id": "a580a12c"
    },
    {
      "cell_type": "markdown",
      "metadata": {},
      "source": [
        "## Introdução\n",
        "\n",
        "Explorando dados sobre os mananciais que abastecem a Região Metropolitana de São Paulo\n",
        "\n",
        "## Objetivos\n",
        "\n",
        "-\n",
        "\n",
        "## Setup\n",
        "\n",
        "Este trabalho foi desenvolvido em um computador com sistema Mac OS, com a versão do Python 3.9.13, utilizando o VS Code, o Quarto e a extensão do Quarto para o VS Code.\n"
      ],
      "id": "0f72d5b2"
    },
    {
      "cell_type": "code",
      "metadata": {},
      "source": [
        "from platform import python_version\n",
        "\n",
        "python_version()"
      ],
      "id": "a73d8acf",
      "execution_count": null,
      "outputs": []
    },
    {
      "cell_type": "markdown",
      "metadata": {},
      "source": [
        "## Preparando o ambiente\n",
        "\n",
        "Antes de iniciar a explorar os dados, foi preciso preparar o ambiente. Primeiro criei um virtual environment para a instalação dos pacotes em Python utilizando o seguinte código no terminal:\n"
      ],
      "id": "8348fdd9"
    },
    {
      "cell_type": "code",
      "metadata": {},
      "source": [
        "#| eval: false\n",
        "python3 -m venv env"
      ],
      "id": "dad5ceb0",
      "execution_count": null,
      "outputs": []
    },
    {
      "cell_type": "markdown",
      "metadata": {},
      "source": [
        "Para utilizar o virtual environment criado, utilizei o seguinte código no terminal:\n"
      ],
      "id": "06bbbf71"
    },
    {
      "cell_type": "code",
      "metadata": {},
      "source": [
        "#| eval: false\n",
        "source env/bin/activate"
      ],
      "id": "2a7abaa3",
      "execution_count": null,
      "outputs": []
    },
    {
      "cell_type": "markdown",
      "metadata": {},
      "source": [
        "Foi necessário também atualizar o pip (usado para instalar as bibliotecas), e instalar o jupyter e os pacotes:\n"
      ],
      "id": "476193fe"
    },
    {
      "cell_type": "code",
      "metadata": {},
      "source": [
        "#| eval: false\n",
        "\n",
        "# Para instalar o jupyter\n",
        "pip install jupyter\n",
        "\n",
        "\n",
        "# atualizar o pip\n",
        "pip install --upgrade pip\n",
        "\n",
        "\n",
        "# Para instalar as bibliotecas pandas e seaborn:\n",
        "pip install pandas\n",
        "pip install seaborn"
      ],
      "id": "21afe7f2",
      "execution_count": null,
      "outputs": []
    },
    {
      "cell_type": "markdown",
      "metadata": {},
      "source": [
        "## Carregar bibliotecas\n"
      ],
      "id": "631965b6"
    },
    {
      "cell_type": "code",
      "metadata": {},
      "source": [
        "import numpy as np\n",
        "import pandas as pd\n",
        "import seaborn as sns"
      ],
      "id": "7f39f42e",
      "execution_count": null,
      "outputs": []
    },
    {
      "cell_type": "markdown",
      "metadata": {},
      "source": [
        "## Importar dados\n"
      ],
      "id": "8b4aa614"
    },
    {
      "cell_type": "code",
      "metadata": {},
      "source": [
        "url_mananciais = 'https://raw.githubusercontent.com/beatrizmilz/mananciais/master/inst/extdata/mananciais.csv'\n",
        "\n",
        "mananciais = pd.read_csv(url_mananciais,  sep = \";\")"
      ],
      "id": "9db274ae",
      "execution_count": null,
      "outputs": []
    },
    {
      "cell_type": "markdown",
      "metadata": {},
      "source": [
        "## Limpar/organizar os dados\n"
      ],
      "id": "3fcbd976"
    },
    {
      "cell_type": "code",
      "metadata": {},
      "source": [
        "mananciais.info()"
      ],
      "id": "762e82fe",
      "execution_count": null,
      "outputs": []
    },
    {
      "cell_type": "markdown",
      "metadata": {},
      "source": [
        "Quais são as colunas disponíveis?\n"
      ],
      "id": "c34573c2"
    },
    {
      "cell_type": "code",
      "metadata": {},
      "source": [
        "# funcao para converter em numero\n",
        "\n",
        "def converter_em_numero(serie):\n",
        "   x = pd.to_numeric(serie.str.replace(',', '.')) \n",
        "   return(x)\n",
        "\n",
        "\n",
        "# exemplo de uso!\n",
        "# converter_em_numero(mananciais['volume_porcentagem'])"
      ],
      "id": "b406a899",
      "execution_count": null,
      "outputs": []
    },
    {
      "cell_type": "code",
      "metadata": {},
      "source": [
        "mananciais_arrumado = mananciais.assign(\n",
        "    data = pd.to_datetime(mananciais['data']),\n",
        "    volume_porcentagem = lambda x: converter_em_numero(x['volume_porcentagem']),\n",
        "    volume_variacao = lambda x: converter_em_numero(x['volume_variacao']),\n",
        "    volume_operacional = lambda x: converter_em_numero(x['volume_operacional']),\n",
        "    pluviometria_dia = lambda x: converter_em_numero(x['pluviometria_dia']),\n",
        "    pluviometria_mensal = lambda x: converter_em_numero(x['pluviometria_mensal']),\n",
        "    pluviometria_hist = lambda x: converter_em_numero(x['pluviometria_hist'])\n",
        "    )"
      ],
      "id": "36e09416",
      "execution_count": null,
      "outputs": []
    },
    {
      "cell_type": "code",
      "metadata": {},
      "source": [
        "mananciais_arrumado.info()"
      ],
      "id": "fb9aaedf",
      "execution_count": null,
      "outputs": []
    },
    {
      "cell_type": "code",
      "metadata": {},
      "source": [
        "mananciais_arrumado['data_mes'] = pd.DatetimeIndex(mananciais_arrumado['data']).month\n",
        "\n",
        "mananciais_arrumado['data_ano'] = pd.DatetimeIndex(mananciais_arrumado['data']).year"
      ],
      "id": "91bc9712",
      "execution_count": null,
      "outputs": []
    },
    {
      "cell_type": "code",
      "metadata": {},
      "source": [
        "mananciais_arrumado.info()"
      ],
      "id": "94199114",
      "execution_count": null,
      "outputs": []
    },
    {
      "cell_type": "markdown",
      "metadata": {},
      "source": [
        "## Análise exploratória\n"
      ],
      "id": "8e802e16"
    },
    {
      "cell_type": "code",
      "metadata": {},
      "source": [
        "mananciais."
      ],
      "id": "4371c996",
      "execution_count": null,
      "outputs": []
    },
    {
      "cell_type": "code",
      "metadata": {},
      "source": [
        "mananciais['sistema'].unique()"
      ],
      "id": "34942f6e",
      "execution_count": null,
      "outputs": []
    },
    {
      "cell_type": "code",
      "metadata": {},
      "source": [
        "mananciais_arrumado['data'].min()\n",
        "mananciais_arrumado['data'].max()"
      ],
      "id": "a6e1b81e",
      "execution_count": null,
      "outputs": []
    },
    {
      "cell_type": "code",
      "metadata": {},
      "source": [
        "mananciais_arrumado.query(\"data == data.max()\").sort_values('volume_operacional',  ascending = False).filter([\"sistema\", \"volume_porcentagem\", \"volume_operacional\"])"
      ],
      "id": "8c05f922",
      "execution_count": null,
      "outputs": []
    },
    {
      "cell_type": "markdown",
      "metadata": {},
      "source": [
        "- Agrupar por ano e sistema\n"
      ],
      "id": "0c8d6c39"
    },
    {
      "cell_type": "code",
      "metadata": {},
      "source": [
        "mananciais_sumarizado_mes_ano = (mananciais_arrumado.\n",
        "groupby([\"sistema\", \"data_ano\"], as_index = False).\n",
        "agg(media_medida_porcentagem = (\"volume_porcentagem\", \"mean\")))"
      ],
      "id": "c996c8d9",
      "execution_count": null,
      "outputs": []
    },
    {
      "cell_type": "code",
      "metadata": {},
      "source": [
        "dados_cantareira = mananciais_sumarizado_mes_ano.query(\"sistema == 'Cantareira'\")\n",
        "\n",
        "\n",
        "\n",
        "# sns.lineplot(dados_cantareira, x = 'data_ano',  y = 'media_medida_porcentagem' )"
      ],
      "id": "46562e7f",
      "execution_count": null,
      "outputs": []
    }
  ],
  "metadata": {
    "kernelspec": {
      "name": "python3",
      "language": "python",
      "display_name": "Python 3 (ipykernel)"
    }
  },
  "nbformat": 4,
  "nbformat_minor": 5
}